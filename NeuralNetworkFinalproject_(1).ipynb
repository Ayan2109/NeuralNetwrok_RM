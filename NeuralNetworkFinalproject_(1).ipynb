{
  "cells": [
    {
      "cell_type": "markdown",
      "metadata": {
        "id": "view-in-github",
        "colab_type": "text"
      },
      "source": [
        "<a href=\"https://colab.research.google.com/github/Ayan2109/NeuralNetwrok_RM/blob/main/NeuralNetworkFinalproject_(1).ipynb\" target=\"_parent\"><img src=\"https://colab.research.google.com/assets/colab-badge.svg\" alt=\"Open In Colab\"/></a>"
      ]
    },
    {
      "cell_type": "code",
      "execution_count": 1,
      "id": "fa0eadb1-e2cc-4b78-b143-5cc9e80b8d7d",
      "metadata": {
        "id": "fa0eadb1-e2cc-4b78-b143-5cc9e80b8d7d"
      },
      "outputs": [],
      "source": [
        "import keras\n",
        "import pandas as pd \n",
        "import numpy as np\n"
      ]
    },
    {
      "cell_type": "markdown",
      "id": "ce651ebf-6749-474a-a29f-db10bb468622",
      "metadata": {
        "id": "ce651ebf-6749-474a-a29f-db10bb468622"
      },
      "source": [
        "Reading csv file"
      ]
    },
    {
      "cell_type": "code",
      "execution_count": 2,
      "id": "da94758c-8afe-41b7-8f92-f167e95be338",
      "metadata": {
        "id": "da94758c-8afe-41b7-8f92-f167e95be338",
        "outputId": "c06ae6e2-b6bb-40c1-d44a-e4264f44b3d1",
        "colab": {
          "base_uri": "https://localhost:8080/",
          "height": 206
        }
      },
      "outputs": [
        {
          "output_type": "execute_result",
          "data": {
            "text/plain": [
              "   Cement  Blast Furnace Slag  Fly Ash  Water  Superplasticizer  \\\n",
              "0   540.0                 0.0      0.0  162.0               2.5   \n",
              "1   540.0                 0.0      0.0  162.0               2.5   \n",
              "2   332.5               142.5      0.0  228.0               0.0   \n",
              "3   332.5               142.5      0.0  228.0               0.0   \n",
              "4   198.6               132.4      0.0  192.0               0.0   \n",
              "\n",
              "   Coarse Aggregate  Fine Aggregate  Age  Strength  \n",
              "0            1040.0           676.0   28     79.99  \n",
              "1            1055.0           676.0   28     61.89  \n",
              "2             932.0           594.0  270     40.27  \n",
              "3             932.0           594.0  365     41.05  \n",
              "4             978.4           825.5  360     44.30  "
            ],
            "text/html": [
              "\n",
              "  <div id=\"df-be757596-b73e-4e12-8bdb-9e27aa28290a\">\n",
              "    <div class=\"colab-df-container\">\n",
              "      <div>\n",
              "<style scoped>\n",
              "    .dataframe tbody tr th:only-of-type {\n",
              "        vertical-align: middle;\n",
              "    }\n",
              "\n",
              "    .dataframe tbody tr th {\n",
              "        vertical-align: top;\n",
              "    }\n",
              "\n",
              "    .dataframe thead th {\n",
              "        text-align: right;\n",
              "    }\n",
              "</style>\n",
              "<table border=\"1\" class=\"dataframe\">\n",
              "  <thead>\n",
              "    <tr style=\"text-align: right;\">\n",
              "      <th></th>\n",
              "      <th>Cement</th>\n",
              "      <th>Blast Furnace Slag</th>\n",
              "      <th>Fly Ash</th>\n",
              "      <th>Water</th>\n",
              "      <th>Superplasticizer</th>\n",
              "      <th>Coarse Aggregate</th>\n",
              "      <th>Fine Aggregate</th>\n",
              "      <th>Age</th>\n",
              "      <th>Strength</th>\n",
              "    </tr>\n",
              "  </thead>\n",
              "  <tbody>\n",
              "    <tr>\n",
              "      <th>0</th>\n",
              "      <td>540.0</td>\n",
              "      <td>0.0</td>\n",
              "      <td>0.0</td>\n",
              "      <td>162.0</td>\n",
              "      <td>2.5</td>\n",
              "      <td>1040.0</td>\n",
              "      <td>676.0</td>\n",
              "      <td>28</td>\n",
              "      <td>79.99</td>\n",
              "    </tr>\n",
              "    <tr>\n",
              "      <th>1</th>\n",
              "      <td>540.0</td>\n",
              "      <td>0.0</td>\n",
              "      <td>0.0</td>\n",
              "      <td>162.0</td>\n",
              "      <td>2.5</td>\n",
              "      <td>1055.0</td>\n",
              "      <td>676.0</td>\n",
              "      <td>28</td>\n",
              "      <td>61.89</td>\n",
              "    </tr>\n",
              "    <tr>\n",
              "      <th>2</th>\n",
              "      <td>332.5</td>\n",
              "      <td>142.5</td>\n",
              "      <td>0.0</td>\n",
              "      <td>228.0</td>\n",
              "      <td>0.0</td>\n",
              "      <td>932.0</td>\n",
              "      <td>594.0</td>\n",
              "      <td>270</td>\n",
              "      <td>40.27</td>\n",
              "    </tr>\n",
              "    <tr>\n",
              "      <th>3</th>\n",
              "      <td>332.5</td>\n",
              "      <td>142.5</td>\n",
              "      <td>0.0</td>\n",
              "      <td>228.0</td>\n",
              "      <td>0.0</td>\n",
              "      <td>932.0</td>\n",
              "      <td>594.0</td>\n",
              "      <td>365</td>\n",
              "      <td>41.05</td>\n",
              "    </tr>\n",
              "    <tr>\n",
              "      <th>4</th>\n",
              "      <td>198.6</td>\n",
              "      <td>132.4</td>\n",
              "      <td>0.0</td>\n",
              "      <td>192.0</td>\n",
              "      <td>0.0</td>\n",
              "      <td>978.4</td>\n",
              "      <td>825.5</td>\n",
              "      <td>360</td>\n",
              "      <td>44.30</td>\n",
              "    </tr>\n",
              "  </tbody>\n",
              "</table>\n",
              "</div>\n",
              "      <button class=\"colab-df-convert\" onclick=\"convertToInteractive('df-be757596-b73e-4e12-8bdb-9e27aa28290a')\"\n",
              "              title=\"Convert this dataframe to an interactive table.\"\n",
              "              style=\"display:none;\">\n",
              "        \n",
              "  <svg xmlns=\"http://www.w3.org/2000/svg\" height=\"24px\"viewBox=\"0 0 24 24\"\n",
              "       width=\"24px\">\n",
              "    <path d=\"M0 0h24v24H0V0z\" fill=\"none\"/>\n",
              "    <path d=\"M18.56 5.44l.94 2.06.94-2.06 2.06-.94-2.06-.94-.94-2.06-.94 2.06-2.06.94zm-11 1L8.5 8.5l.94-2.06 2.06-.94-2.06-.94L8.5 2.5l-.94 2.06-2.06.94zm10 10l.94 2.06.94-2.06 2.06-.94-2.06-.94-.94-2.06-.94 2.06-2.06.94z\"/><path d=\"M17.41 7.96l-1.37-1.37c-.4-.4-.92-.59-1.43-.59-.52 0-1.04.2-1.43.59L10.3 9.45l-7.72 7.72c-.78.78-.78 2.05 0 2.83L4 21.41c.39.39.9.59 1.41.59.51 0 1.02-.2 1.41-.59l7.78-7.78 2.81-2.81c.8-.78.8-2.07 0-2.86zM5.41 20L4 18.59l7.72-7.72 1.47 1.35L5.41 20z\"/>\n",
              "  </svg>\n",
              "      </button>\n",
              "      \n",
              "  <style>\n",
              "    .colab-df-container {\n",
              "      display:flex;\n",
              "      flex-wrap:wrap;\n",
              "      gap: 12px;\n",
              "    }\n",
              "\n",
              "    .colab-df-convert {\n",
              "      background-color: #E8F0FE;\n",
              "      border: none;\n",
              "      border-radius: 50%;\n",
              "      cursor: pointer;\n",
              "      display: none;\n",
              "      fill: #1967D2;\n",
              "      height: 32px;\n",
              "      padding: 0 0 0 0;\n",
              "      width: 32px;\n",
              "    }\n",
              "\n",
              "    .colab-df-convert:hover {\n",
              "      background-color: #E2EBFA;\n",
              "      box-shadow: 0px 1px 2px rgba(60, 64, 67, 0.3), 0px 1px 3px 1px rgba(60, 64, 67, 0.15);\n",
              "      fill: #174EA6;\n",
              "    }\n",
              "\n",
              "    [theme=dark] .colab-df-convert {\n",
              "      background-color: #3B4455;\n",
              "      fill: #D2E3FC;\n",
              "    }\n",
              "\n",
              "    [theme=dark] .colab-df-convert:hover {\n",
              "      background-color: #434B5C;\n",
              "      box-shadow: 0px 1px 3px 1px rgba(0, 0, 0, 0.15);\n",
              "      filter: drop-shadow(0px 1px 2px rgba(0, 0, 0, 0.3));\n",
              "      fill: #FFFFFF;\n",
              "    }\n",
              "  </style>\n",
              "\n",
              "      <script>\n",
              "        const buttonEl =\n",
              "          document.querySelector('#df-be757596-b73e-4e12-8bdb-9e27aa28290a button.colab-df-convert');\n",
              "        buttonEl.style.display =\n",
              "          google.colab.kernel.accessAllowed ? 'block' : 'none';\n",
              "\n",
              "        async function convertToInteractive(key) {\n",
              "          const element = document.querySelector('#df-be757596-b73e-4e12-8bdb-9e27aa28290a');\n",
              "          const dataTable =\n",
              "            await google.colab.kernel.invokeFunction('convertToInteractive',\n",
              "                                                     [key], {});\n",
              "          if (!dataTable) return;\n",
              "\n",
              "          const docLinkHtml = 'Like what you see? Visit the ' +\n",
              "            '<a target=\"_blank\" href=https://colab.research.google.com/notebooks/data_table.ipynb>data table notebook</a>'\n",
              "            + ' to learn more about interactive tables.';\n",
              "          element.innerHTML = '';\n",
              "          dataTable['output_type'] = 'display_data';\n",
              "          await google.colab.output.renderOutput(dataTable, element);\n",
              "          const docLink = document.createElement('div');\n",
              "          docLink.innerHTML = docLinkHtml;\n",
              "          element.appendChild(docLink);\n",
              "        }\n",
              "      </script>\n",
              "    </div>\n",
              "  </div>\n",
              "  "
            ]
          },
          "metadata": {},
          "execution_count": 2
        }
      ],
      "source": [
        "df = pd.read_csv('https://cocl.us/concrete_data')\n",
        "df.head()"
      ]
    },
    {
      "cell_type": "code",
      "execution_count": 3,
      "id": "cffd9146-fc07-44f8-8ea8-48c89da2f384",
      "metadata": {
        "id": "cffd9146-fc07-44f8-8ea8-48c89da2f384",
        "outputId": "e0855a06-128d-40f4-ddbd-641bc9971a49",
        "colab": {
          "base_uri": "https://localhost:8080/",
          "height": 300
        }
      },
      "outputs": [
        {
          "output_type": "execute_result",
          "data": {
            "text/plain": [
              "            Cement  Blast Furnace Slag      Fly Ash        Water  \\\n",
              "count  1030.000000         1030.000000  1030.000000  1030.000000   \n",
              "mean    281.167864           73.895825    54.188350   181.567282   \n",
              "std     104.506364           86.279342    63.997004    21.354219   \n",
              "min     102.000000            0.000000     0.000000   121.800000   \n",
              "25%     192.375000            0.000000     0.000000   164.900000   \n",
              "50%     272.900000           22.000000     0.000000   185.000000   \n",
              "75%     350.000000          142.950000   118.300000   192.000000   \n",
              "max     540.000000          359.400000   200.100000   247.000000   \n",
              "\n",
              "       Superplasticizer  Coarse Aggregate  Fine Aggregate          Age  \\\n",
              "count       1030.000000       1030.000000     1030.000000  1030.000000   \n",
              "mean           6.204660        972.918932      773.580485    45.662136   \n",
              "std            5.973841         77.753954       80.175980    63.169912   \n",
              "min            0.000000        801.000000      594.000000     1.000000   \n",
              "25%            0.000000        932.000000      730.950000     7.000000   \n",
              "50%            6.400000        968.000000      779.500000    28.000000   \n",
              "75%           10.200000       1029.400000      824.000000    56.000000   \n",
              "max           32.200000       1145.000000      992.600000   365.000000   \n",
              "\n",
              "          Strength  \n",
              "count  1030.000000  \n",
              "mean     35.817961  \n",
              "std      16.705742  \n",
              "min       2.330000  \n",
              "25%      23.710000  \n",
              "50%      34.445000  \n",
              "75%      46.135000  \n",
              "max      82.600000  "
            ],
            "text/html": [
              "\n",
              "  <div id=\"df-df42ed0b-ecda-4983-8d0b-ee52cc2a56a8\">\n",
              "    <div class=\"colab-df-container\">\n",
              "      <div>\n",
              "<style scoped>\n",
              "    .dataframe tbody tr th:only-of-type {\n",
              "        vertical-align: middle;\n",
              "    }\n",
              "\n",
              "    .dataframe tbody tr th {\n",
              "        vertical-align: top;\n",
              "    }\n",
              "\n",
              "    .dataframe thead th {\n",
              "        text-align: right;\n",
              "    }\n",
              "</style>\n",
              "<table border=\"1\" class=\"dataframe\">\n",
              "  <thead>\n",
              "    <tr style=\"text-align: right;\">\n",
              "      <th></th>\n",
              "      <th>Cement</th>\n",
              "      <th>Blast Furnace Slag</th>\n",
              "      <th>Fly Ash</th>\n",
              "      <th>Water</th>\n",
              "      <th>Superplasticizer</th>\n",
              "      <th>Coarse Aggregate</th>\n",
              "      <th>Fine Aggregate</th>\n",
              "      <th>Age</th>\n",
              "      <th>Strength</th>\n",
              "    </tr>\n",
              "  </thead>\n",
              "  <tbody>\n",
              "    <tr>\n",
              "      <th>count</th>\n",
              "      <td>1030.000000</td>\n",
              "      <td>1030.000000</td>\n",
              "      <td>1030.000000</td>\n",
              "      <td>1030.000000</td>\n",
              "      <td>1030.000000</td>\n",
              "      <td>1030.000000</td>\n",
              "      <td>1030.000000</td>\n",
              "      <td>1030.000000</td>\n",
              "      <td>1030.000000</td>\n",
              "    </tr>\n",
              "    <tr>\n",
              "      <th>mean</th>\n",
              "      <td>281.167864</td>\n",
              "      <td>73.895825</td>\n",
              "      <td>54.188350</td>\n",
              "      <td>181.567282</td>\n",
              "      <td>6.204660</td>\n",
              "      <td>972.918932</td>\n",
              "      <td>773.580485</td>\n",
              "      <td>45.662136</td>\n",
              "      <td>35.817961</td>\n",
              "    </tr>\n",
              "    <tr>\n",
              "      <th>std</th>\n",
              "      <td>104.506364</td>\n",
              "      <td>86.279342</td>\n",
              "      <td>63.997004</td>\n",
              "      <td>21.354219</td>\n",
              "      <td>5.973841</td>\n",
              "      <td>77.753954</td>\n",
              "      <td>80.175980</td>\n",
              "      <td>63.169912</td>\n",
              "      <td>16.705742</td>\n",
              "    </tr>\n",
              "    <tr>\n",
              "      <th>min</th>\n",
              "      <td>102.000000</td>\n",
              "      <td>0.000000</td>\n",
              "      <td>0.000000</td>\n",
              "      <td>121.800000</td>\n",
              "      <td>0.000000</td>\n",
              "      <td>801.000000</td>\n",
              "      <td>594.000000</td>\n",
              "      <td>1.000000</td>\n",
              "      <td>2.330000</td>\n",
              "    </tr>\n",
              "    <tr>\n",
              "      <th>25%</th>\n",
              "      <td>192.375000</td>\n",
              "      <td>0.000000</td>\n",
              "      <td>0.000000</td>\n",
              "      <td>164.900000</td>\n",
              "      <td>0.000000</td>\n",
              "      <td>932.000000</td>\n",
              "      <td>730.950000</td>\n",
              "      <td>7.000000</td>\n",
              "      <td>23.710000</td>\n",
              "    </tr>\n",
              "    <tr>\n",
              "      <th>50%</th>\n",
              "      <td>272.900000</td>\n",
              "      <td>22.000000</td>\n",
              "      <td>0.000000</td>\n",
              "      <td>185.000000</td>\n",
              "      <td>6.400000</td>\n",
              "      <td>968.000000</td>\n",
              "      <td>779.500000</td>\n",
              "      <td>28.000000</td>\n",
              "      <td>34.445000</td>\n",
              "    </tr>\n",
              "    <tr>\n",
              "      <th>75%</th>\n",
              "      <td>350.000000</td>\n",
              "      <td>142.950000</td>\n",
              "      <td>118.300000</td>\n",
              "      <td>192.000000</td>\n",
              "      <td>10.200000</td>\n",
              "      <td>1029.400000</td>\n",
              "      <td>824.000000</td>\n",
              "      <td>56.000000</td>\n",
              "      <td>46.135000</td>\n",
              "    </tr>\n",
              "    <tr>\n",
              "      <th>max</th>\n",
              "      <td>540.000000</td>\n",
              "      <td>359.400000</td>\n",
              "      <td>200.100000</td>\n",
              "      <td>247.000000</td>\n",
              "      <td>32.200000</td>\n",
              "      <td>1145.000000</td>\n",
              "      <td>992.600000</td>\n",
              "      <td>365.000000</td>\n",
              "      <td>82.600000</td>\n",
              "    </tr>\n",
              "  </tbody>\n",
              "</table>\n",
              "</div>\n",
              "      <button class=\"colab-df-convert\" onclick=\"convertToInteractive('df-df42ed0b-ecda-4983-8d0b-ee52cc2a56a8')\"\n",
              "              title=\"Convert this dataframe to an interactive table.\"\n",
              "              style=\"display:none;\">\n",
              "        \n",
              "  <svg xmlns=\"http://www.w3.org/2000/svg\" height=\"24px\"viewBox=\"0 0 24 24\"\n",
              "       width=\"24px\">\n",
              "    <path d=\"M0 0h24v24H0V0z\" fill=\"none\"/>\n",
              "    <path d=\"M18.56 5.44l.94 2.06.94-2.06 2.06-.94-2.06-.94-.94-2.06-.94 2.06-2.06.94zm-11 1L8.5 8.5l.94-2.06 2.06-.94-2.06-.94L8.5 2.5l-.94 2.06-2.06.94zm10 10l.94 2.06.94-2.06 2.06-.94-2.06-.94-.94-2.06-.94 2.06-2.06.94z\"/><path d=\"M17.41 7.96l-1.37-1.37c-.4-.4-.92-.59-1.43-.59-.52 0-1.04.2-1.43.59L10.3 9.45l-7.72 7.72c-.78.78-.78 2.05 0 2.83L4 21.41c.39.39.9.59 1.41.59.51 0 1.02-.2 1.41-.59l7.78-7.78 2.81-2.81c.8-.78.8-2.07 0-2.86zM5.41 20L4 18.59l7.72-7.72 1.47 1.35L5.41 20z\"/>\n",
              "  </svg>\n",
              "      </button>\n",
              "      \n",
              "  <style>\n",
              "    .colab-df-container {\n",
              "      display:flex;\n",
              "      flex-wrap:wrap;\n",
              "      gap: 12px;\n",
              "    }\n",
              "\n",
              "    .colab-df-convert {\n",
              "      background-color: #E8F0FE;\n",
              "      border: none;\n",
              "      border-radius: 50%;\n",
              "      cursor: pointer;\n",
              "      display: none;\n",
              "      fill: #1967D2;\n",
              "      height: 32px;\n",
              "      padding: 0 0 0 0;\n",
              "      width: 32px;\n",
              "    }\n",
              "\n",
              "    .colab-df-convert:hover {\n",
              "      background-color: #E2EBFA;\n",
              "      box-shadow: 0px 1px 2px rgba(60, 64, 67, 0.3), 0px 1px 3px 1px rgba(60, 64, 67, 0.15);\n",
              "      fill: #174EA6;\n",
              "    }\n",
              "\n",
              "    [theme=dark] .colab-df-convert {\n",
              "      background-color: #3B4455;\n",
              "      fill: #D2E3FC;\n",
              "    }\n",
              "\n",
              "    [theme=dark] .colab-df-convert:hover {\n",
              "      background-color: #434B5C;\n",
              "      box-shadow: 0px 1px 3px 1px rgba(0, 0, 0, 0.15);\n",
              "      filter: drop-shadow(0px 1px 2px rgba(0, 0, 0, 0.3));\n",
              "      fill: #FFFFFF;\n",
              "    }\n",
              "  </style>\n",
              "\n",
              "      <script>\n",
              "        const buttonEl =\n",
              "          document.querySelector('#df-df42ed0b-ecda-4983-8d0b-ee52cc2a56a8 button.colab-df-convert');\n",
              "        buttonEl.style.display =\n",
              "          google.colab.kernel.accessAllowed ? 'block' : 'none';\n",
              "\n",
              "        async function convertToInteractive(key) {\n",
              "          const element = document.querySelector('#df-df42ed0b-ecda-4983-8d0b-ee52cc2a56a8');\n",
              "          const dataTable =\n",
              "            await google.colab.kernel.invokeFunction('convertToInteractive',\n",
              "                                                     [key], {});\n",
              "          if (!dataTable) return;\n",
              "\n",
              "          const docLinkHtml = 'Like what you see? Visit the ' +\n",
              "            '<a target=\"_blank\" href=https://colab.research.google.com/notebooks/data_table.ipynb>data table notebook</a>'\n",
              "            + ' to learn more about interactive tables.';\n",
              "          element.innerHTML = '';\n",
              "          dataTable['output_type'] = 'display_data';\n",
              "          await google.colab.output.renderOutput(dataTable, element);\n",
              "          const docLink = document.createElement('div');\n",
              "          docLink.innerHTML = docLinkHtml;\n",
              "          element.appendChild(docLink);\n",
              "        }\n",
              "      </script>\n",
              "    </div>\n",
              "  </div>\n",
              "  "
            ]
          },
          "metadata": {},
          "execution_count": 3
        }
      ],
      "source": [
        "df.describe()"
      ]
    },
    {
      "cell_type": "markdown",
      "id": "c1347dac-ce32-4d58-820a-37eca50cf0ec",
      "metadata": {
        "id": "c1347dac-ce32-4d58-820a-37eca50cf0ec"
      },
      "source": [
        "Checking if the data is clean "
      ]
    },
    {
      "cell_type": "code",
      "execution_count": 4,
      "id": "bb8880a8-0283-4053-bcfe-57f555fa9b2a",
      "metadata": {
        "id": "bb8880a8-0283-4053-bcfe-57f555fa9b2a",
        "outputId": "dc282dfa-3509-49f0-aeea-c079204ec44b",
        "colab": {
          "base_uri": "https://localhost:8080/"
        }
      },
      "outputs": [
        {
          "output_type": "execute_result",
          "data": {
            "text/plain": [
              "Cement                0\n",
              "Blast Furnace Slag    0\n",
              "Fly Ash               0\n",
              "Water                 0\n",
              "Superplasticizer      0\n",
              "Coarse Aggregate      0\n",
              "Fine Aggregate        0\n",
              "Age                   0\n",
              "Strength              0\n",
              "dtype: int64"
            ]
          },
          "metadata": {},
          "execution_count": 4
        }
      ],
      "source": [
        "df.isnull().sum()"
      ]
    },
    {
      "cell_type": "code",
      "source": [
        "import seaborn as sns\n",
        "import matplotlib.pyplot as plt \n",
        "df.hist(figsize = (10,10))\n",
        "plt.show()"
      ],
      "metadata": {
        "colab": {
          "base_uri": "https://localhost:8080/",
          "height": 607
        },
        "id": "fwa9RMEPdvhd",
        "outputId": "82267cc5-9b39-4430-e08b-a30f736587d8"
      },
      "id": "fwa9RMEPdvhd",
      "execution_count": 9,
      "outputs": [
        {
          "output_type": "display_data",
          "data": {
            "text/plain": [
              "<Figure size 720x720 with 9 Axes>"
            ],
            "image/png": "[encoded data removed]"
          },
          "metadata": {
            "needs_background": "light"
          }
        }
      ]
    },
    {
      "cell_type": "code",
      "source": [
        "cmap = df.corr()\n",
        "fig =  plt.figure(figsize=(10,10))\n",
        "sns.heatmap(cmap, vmax = 1.0, square = True)\n",
        "plt.show()"
      ],
      "metadata": {
        "colab": {
          "base_uri": "https://localhost:8080/",
          "height": 630
        },
        "id": "wsjfzwv4dp7I",
        "outputId": "9aee4ca6-4700-45b8-9141-93d5c7390cb1"
      },
      "id": "wsjfzwv4dp7I",
      "execution_count": 14,
      "outputs": [
        {
          "output_type": "display_data",
          "data": {
            "text/plain": [
              "<Figure size 720x720 with 2 Axes>"
            ],
            "image/png": "[encoded data removed]"
          },
          "metadata": {
            "needs_background": "light"
          }
        }
      ]
    },
    {
      "cell_type": "markdown",
      "id": "27dd5b2b-ea9f-44e7-957d-b8d96beec2e4",
      "metadata": {
        "id": "27dd5b2b-ea9f-44e7-957d-b8d96beec2e4"
      },
      "source": [
        "Dividing the data set into independent and dependent variables i.e X and Y"
      ]
    },
    {
      "cell_type": "code",
      "execution_count": 16,
      "id": "8c113693-36c6-4f02-8a77-e4de7df60cc4",
      "metadata": {
        "id": "8c113693-36c6-4f02-8a77-e4de7df60cc4",
        "outputId": "e5aa73f0-c156-47b5-b27e-f8030b1c0e75",
        "colab": {
          "base_uri": "https://localhost:8080/"
        }
      },
      "outputs": [
        {
          "output_type": "stream",
          "name": "stdout",
          "text": [
            "(1030, 8)\n",
            "(1030, 1)\n"
          ]
        }
      ],
      "source": [
        "X = df[['Cement', 'Blast Furnace Slag','Fly Ash', 'Water', 'Superplasticizer','Coarse Aggregate','Fine Aggregate','Age']]\n",
        "Y = df[['Strength']]\n",
        "print(X.shape)\n",
        "print(Y.shape)"
      ]
    },
    {
      "cell_type": "code",
      "execution_count": 17,
      "id": "fb64fb62-80c9-4dc4-86cc-96c481ccdb57",
      "metadata": {
        "id": "fb64fb62-80c9-4dc4-86cc-96c481ccdb57"
      },
      "outputs": [],
      "source": [
        "from keras.models import Sequential \n",
        "from keras.layers import Dense\n",
        "from sklearn.model_selection import train_test_split\n",
        "\n",
        "#splitting the data into 30% for testing and 70% for training\n",
        "X_train, X_test, Y_train, Y_test = train_test_split(X,Y, test_size = 0.3, random_state = 4)"
      ]
    },
    {
      "cell_type": "code",
      "execution_count": 18,
      "id": "36fde4ce-aafb-4a24-a614-d9ce8c1b3424",
      "metadata": {
        "id": "36fde4ce-aafb-4a24-a614-d9ce8c1b3424"
      },
      "outputs": [],
      "source": [
        "# Creating the regression model\n",
        "def regression_model():\n",
        "    model = Sequential()\n",
        "    n_cols = X.shape[1]\n",
        "    model.add(Dense(10, activation = 'relu', input_shape = (n_cols,)))\n",
        "    model.add(Dense(1))\n",
        "    model.compile(optimizer = 'adam', loss = 'mean_squared_error')\n",
        "    \n",
        "    return model"
      ]
    },
    {
      "cell_type": "code",
      "execution_count": 19,
      "id": "ff5c0170-9515-4301-a17c-ebb0521deb6f",
      "metadata": {
        "id": "ff5c0170-9515-4301-a17c-ebb0521deb6f"
      },
      "outputs": [],
      "source": [
        "\n",
        "from sklearn.metrics import mean_squared_error\n",
        "\n",
        "# function to calculate mean squared error for the model 50 times and store it in a list\n",
        "def training_model(X_train, X_test, Y_train, Y_test):\n",
        "    list_mse = []\n",
        "    \n",
        "    \n",
        "    for x in range(50):\n",
        "        \n",
        "        model = regression_model()\n",
        "        model.fit(X_train,Y_train, validation_data=(X_test, Y_test), epochs = 50, verbose = 0)\n",
        "        yhat = model.predict(X_test)\n",
        "        list_mse.append(mean_squared_error(Y_test,yhat))\n",
        "        \n",
        "    return list_mse"
      ]
    },
    {
      "cell_type": "code",
      "execution_count": 20,
      "id": "7bfa79e9-d760-4cf2-aaec-7c8802fea5bd",
      "metadata": {
        "id": "7bfa79e9-d760-4cf2-aaec-7c8802fea5bd"
      },
      "outputs": [],
      "source": [
        "#list of 50 mean squared errors from the iterations\n",
        "list_of_mse = training_model(X_train, X_test, Y_train, Y_test)"
      ]
    },
    {
      "cell_type": "code",
      "execution_count": 21,
      "id": "05b0630d-0061-458f-a520-927edf29f0e4",
      "metadata": {
        "id": "05b0630d-0061-458f-a520-927edf29f0e4",
        "outputId": "221760c7-a5e6-4545-9fc8-9ca388b1d154",
        "colab": {
          "base_uri": "https://localhost:8080/"
        }
      },
      "outputs": [
        {
          "output_type": "stream",
          "name": "stdout",
          "text": [
            "List of MSE: [150.52227860486067, 90.72870665176993, 129.01583505828125, 118.2174499366528, 205.00314966917168, 134.4647623295145, 125.31723665838408, 124.46867089422894, 1679.355080051679, 188.53565807616172, 313.756651134974, 129.86582061939322, 95.94956141221189, 128.82184248371522, 694.3344825453283, 550.1785500193329, 101.19777473267035, 854.9495469259044, 180.06399586992495, 179.99135715710358, 3435.377514351819, 294.08485072297674, 232.29398695595845, 123.28038753489854, 257.71262975989634, 1276.6113552859988, 222.2153272905247, 882.7057116444821, 126.05891450327981, 228.66706791108592, 602.0475749332536, 142.99990409295384, 317.63570562154916, 252.73991031721377, 149.40871988887125, 128.4907165441779, 564.558277495756, 90.26364733534484, 137.1702979132623, 129.54990096717765, 123.56783206731241, 216.87155585647307, 142.68337449078575, 125.50049989976445, 817.206051753138, 182.35807697592153, 243.7179020695652, 142.48164421320578, 382.46024815113805, 122.33089727512166]\n",
            "Standard Deviation: 540.482\n",
            "Mean: 365.356\n"
          ]
        }
      ],
      "source": [
        "#printing and caclulating the list, standard deviation for the list and the mean for the list\n",
        "print('List of MSE: {}'.format(list_of_mse))\n",
        "std_A = np.std(list_of_mse)\n",
        "mean_A = np.mean(list_of_mse)\n",
        "print('Standard Deviation: {0:.3f}'.format(std_A))\n",
        "print('Mean: {0:.3f}'.format(mean_A))"
      ]
    },
    {
      "cell_type": "markdown",
      "id": "36055b70-3b44-4a21-9f66-8db4f618d317",
      "metadata": {
        "id": "36055b70-3b44-4a21-9f66-8db4f618d317"
      },
      "source": [
        "Part B: Using Normalized Data "
      ]
    },
    {
      "cell_type": "code",
      "execution_count": 22,
      "id": "264e69d9-2b8d-4ae7-bb0d-87a0584fd220",
      "metadata": {
        "id": "264e69d9-2b8d-4ae7-bb0d-87a0584fd220"
      },
      "outputs": [],
      "source": [
        "# Normalizing the data using preprocesssing from sklean\n",
        "from sklearn import preprocessing\n",
        "X = preprocessing.StandardScaler().fit(X).transform(X)\n",
        "\n",
        "#train test split for normalized data\n",
        "X_train, X_test, Y_train, Y_test = train_test_split(X,Y, test_size = 0.3, random_state = 4)\n"
      ]
    },
    {
      "cell_type": "code",
      "execution_count": 23,
      "id": "00bb64bc-55da-425e-b6ec-c35bec1624ca",
      "metadata": {
        "id": "00bb64bc-55da-425e-b6ec-c35bec1624ca"
      },
      "outputs": [],
      "source": [
        "#calling the function to store the list of mean squared errors\n",
        "list_of_mse_normalizeddata = training_model(X_train, X_test, Y_train, Y_test)"
      ]
    },
    {
      "cell_type": "code",
      "execution_count": 24,
      "id": "2f5eecad-9b47-47a9-aa3c-a3d75a8341c5",
      "metadata": {
        "id": "2f5eecad-9b47-47a9-aa3c-a3d75a8341c5",
        "outputId": "bc602ed3-db9a-4820-eee9-c7d6451c194d",
        "colab": {
          "base_uri": "https://localhost:8080/"
        }
      },
      "outputs": [
        {
          "output_type": "stream",
          "name": "stdout",
          "text": [
            "List of MSE for Normalized Data [298.58408014183027, 554.138369169976, 347.2605910315829, 347.0130576723024, 370.1497030939185, 402.2875091307969, 364.2721254050654, 245.95900692834167, 349.5564760237317, 272.6228566787481, 259.3105236956968, 379.49332345566347, 346.3556109738023, 315.66927621880075, 285.2112197363795, 304.3544396848526, 472.4093129741959, 372.16392158643293, 383.5579692193621, 318.27042356108325, 439.0464363712002, 291.00611933933936, 503.25549163915497, 398.96409596062364, 576.7866334326534, 624.9756028233519, 496.0753255844132, 359.07525802077646, 326.42448921046423, 487.69523915690337, 375.71616778232874, 347.1499768721411, 285.7520687935825, 318.8643921547645, 395.0697095907349, 287.61184931190945, 314.3634698416775, 274.3981169623685, 377.3675395230728, 300.8477087513861, 358.4918672752675, 277.17106496454574, 337.4317582900105, 392.11995120287366, 463.03661369019875, 294.2425465405531, 274.8132039377306, 404.8542664970275, 435.53582473930265, 446.06086191849244]:\n",
            "Standard Deviation for Normalized Data 84.383:\n",
            "Mean for Normalized Data: 369.057\n"
          ]
        }
      ],
      "source": [
        "#printing and caclulating the list, standard deviation for the list and the mean for the list of Part B\n",
        "print('List of MSE for Normalized Data {}:'.format(list_of_mse_normalizeddata))\n",
        "std_B = np.std(list_of_mse_normalizeddata)\n",
        "mean_B = np.mean(list_of_mse_normalizeddata)\n",
        "print('Standard Deviation for Normalized Data {0:.3f}:'.format(std_B))\n",
        "print('Mean for Normalized Data: {0:.3f}'.format(mean_B))"
      ]
    },
    {
      "cell_type": "code",
      "execution_count": 25,
      "id": "f3fc5d84-bff0-4441-85b3-440b8884b4ee",
      "metadata": {
        "id": "f3fc5d84-bff0-4441-85b3-440b8884b4ee",
        "outputId": "90ec08ac-3abc-4f6f-9115-eb222e28fcb0",
        "colab": {
          "base_uri": "https://localhost:8080/"
        }
      },
      "outputs": [
        {
          "output_type": "stream",
          "name": "stdout",
          "text": [
            "Mean for part A:365.356\n",
            "Mean of Part B: 369.057\n"
          ]
        }
      ],
      "source": [
        "print('Mean for part A:{0:.3f}'.format(mean_A))\n",
        "print('Mean of Part B: {0:.3f}'.format(mean_B))"
      ]
    },
    {
      "cell_type": "code",
      "execution_count": 26,
      "id": "98454913-aaec-4216-a686-25e1eb3f9c89",
      "metadata": {
        "id": "98454913-aaec-4216-a686-25e1eb3f9c89",
        "outputId": "ee4ef478-790a-41fa-e75b-08bc174178d6",
        "colab": {
          "base_uri": "https://localhost:8080/"
        }
      },
      "outputs": [
        {
          "output_type": "stream",
          "name": "stdout",
          "text": [
            "Mean of Part B is 3.701 more than Part A\n"
          ]
        }
      ],
      "source": [
        "# comparing the mean for Part B and Part A\n",
        "print('Mean of Part B is {0:.3f} more than Part A'.format(mean_B-mean_A))"
      ]
    },
    {
      "cell_type": "markdown",
      "id": "c407b8c1-99fb-4c59-8202-a165f1522268",
      "metadata": {
        "id": "c407b8c1-99fb-4c59-8202-a165f1522268"
      },
      "source": [
        "PART C: using 100 Epochs to build Training model "
      ]
    },
    {
      "cell_type": "code",
      "execution_count": 27,
      "id": "b2f3aed5-2050-4ace-82d5-7e6ec37f524f",
      "metadata": {
        "id": "b2f3aed5-2050-4ace-82d5-7e6ec37f524f"
      },
      "outputs": [],
      "source": [
        "# list to store mean squared errors for part C\n",
        "list_of_mse_Part_C =[]\n",
        "\n",
        "#Calculating 50 mean squared errors but with epoch set at 100\n",
        "for x in range(50):\n",
        "    model = regression_model()\n",
        "    model.fit(X_train,Y_train, validation_data=(X_test, Y_test), epochs = 100, verbose = 0)\n",
        "    yhatC = model.predict(X_test)\n",
        "    list_of_mse_Part_C.append(mean_squared_error(Y_test,yhatC))\n",
        "                              \n"
      ]
    },
    {
      "cell_type": "code",
      "execution_count": 28,
      "id": "6ee810a6-eb4a-41f8-823a-919ae4c6eb31",
      "metadata": {
        "id": "6ee810a6-eb4a-41f8-823a-919ae4c6eb31",
        "outputId": "cf78f91e-f30f-4687-c930-aaa28fdca2a6",
        "colab": {
          "base_uri": "https://localhost:8080/"
        }
      },
      "outputs": [
        {
          "output_type": "stream",
          "name": "stdout",
          "text": [
            "List of MSE: [169.34559227863477, 160.2994528840621, 192.47026972869415, 172.81907749676546, 187.51653646739084, 171.26044301479178, 165.59864498044092, 167.40534484657383, 184.14073123340057, 186.09598049409007, 193.2259627392903, 182.49726719264513, 172.93632960913172, 178.586847124539, 167.49281912843213, 199.0716275942819, 171.58434216792216, 179.0909022955886, 182.28020174347157, 202.52355408712444, 186.57760136276542, 178.60412213074218, 171.19081025745342, 169.74837204406705, 178.23313751478673, 154.24511640329007, 162.28196762532775, 167.02140900779403, 164.09766674665138, 184.15986962560356, 175.08461723258284, 174.87273027219928, 174.62242419439838, 174.07030471726148, 184.2134731322933, 190.2871980130914, 168.50172792720963, 172.12399858542062, 180.73537655178575, 171.18870903116678, 176.4674210717913, 186.1279847221721, 170.59956522438276, 195.45448197984533, 189.41586763886778, 171.38141174260045, 176.60852232194839, 219.66915662299593, 194.5294281192213, 165.38092242802017]\n",
            "Standard Deviation: 11.965\n",
            "Mean: 178.275\n"
          ]
        }
      ],
      "source": [
        "#printing and caclulating the list, standard deviation for the list and the mean for the list of Part C\n",
        "\n",
        "print('List of MSE: {}'.format(list_of_mse_Part_C))\n",
        "std_C = np.std(list_of_mse_Part_C)\n",
        "mean_C = np.mean(list_of_mse_Part_C)\n",
        "print('Standard Deviation: {0:.3f}'.format(std_C))\n",
        "print('Mean: {0:.3f}'.format(mean_C))"
      ]
    },
    {
      "cell_type": "code",
      "execution_count": 29,
      "id": "2214473e-1e2e-4266-86b5-09981d635868",
      "metadata": {
        "id": "2214473e-1e2e-4266-86b5-09981d635868",
        "outputId": "98afca20-cb7c-4ea3-f64e-aa7fd6c2fd70",
        "colab": {
          "base_uri": "https://localhost:8080/"
        }
      },
      "outputs": [
        {
          "output_type": "stream",
          "name": "stdout",
          "text": [
            "Mean for Part B: 369.057\n",
            "Mean for Part C: 178.275\n"
          ]
        }
      ],
      "source": [
        "print('Mean for Part B: {0:.3f}'.format(mean_B))\n",
        "print('Mean for Part C: {0:.3f}'.format(mean_C))"
      ]
    },
    {
      "cell_type": "code",
      "execution_count": 30,
      "id": "03bb3d2d-92b1-43b3-8bae-c88ada74b197",
      "metadata": {
        "id": "03bb3d2d-92b1-43b3-8bae-c88ada74b197",
        "outputId": "7c92430c-f45e-4075-e108-157fd8753189",
        "colab": {
          "base_uri": "https://localhost:8080/"
        }
      },
      "outputs": [
        {
          "output_type": "stream",
          "name": "stdout",
          "text": [
            "Mean for Part C is 190.782 less than Part B\n"
          ]
        }
      ],
      "source": [
        "# Comparing Mean for Part C and Part B\n",
        "print('Mean for Part C is {0:.3f} less than Part B'.format(mean_B - mean_C))"
      ]
    },
    {
      "cell_type": "markdown",
      "id": "9438fb1d-a14a-4e7d-9164-729235190fb8",
      "metadata": {
        "id": "9438fb1d-a14a-4e7d-9164-729235190fb8"
      },
      "source": [
        "PART D: Increasing the Number of Hidden layers"
      ]
    },
    {
      "cell_type": "code",
      "execution_count": 31,
      "id": "fa950d27-6780-4610-9636-87b50caf7062",
      "metadata": {
        "id": "fa950d27-6780-4610-9636-87b50caf7062"
      },
      "outputs": [],
      "source": [
        "#creating the new regresssion model with 3 hidden layers\n",
        "def new_regression_model():\n",
        "    \n",
        "    model = Sequential()\n",
        "    n_cols = X.shape[1]\n",
        "    # 3 hidden layers\n",
        "    model.add(Dense(10, activation = 'relu', input_shape = (n_cols,)))\n",
        "    model.add(Dense(10, activation = 'relu'))\n",
        "    model.add(Dense(10, activation = 'relu'))\n",
        "    model.add(Dense(1))\n",
        "    \n",
        "    model.compile(optimizer = 'adam', loss = 'mean_squared_error')\n",
        "    \n",
        "    return model\n",
        "    "
      ]
    },
    {
      "cell_type": "code",
      "execution_count": 32,
      "id": "2d32df2b-73a1-4bc6-81c8-b61c827dd0c1",
      "metadata": {
        "id": "2d32df2b-73a1-4bc6-81c8-b61c827dd0c1"
      },
      "outputs": [],
      "source": [
        "# list to input the mean squared error\n",
        "list_of_mse_Part_D =[]\n",
        "\n",
        "#calculating mean squared error 50 times\n",
        "for x in range(50):\n",
        "    model = new_regression_model()\n",
        "    model.fit(X_train,Y_train, validation_data=(X_test, Y_test), epochs = 50, verbose = 0)\n",
        "    yhatD = model.predict(X_test)\n",
        "    list_of_mse_Part_D.append(mean_squared_error(Y_test,yhatD))\n",
        "    \n"
      ]
    },
    {
      "cell_type": "code",
      "execution_count": 33,
      "id": "67184101-f341-4410-933e-38ef9547ad13",
      "metadata": {
        "id": "67184101-f341-4410-933e-38ef9547ad13",
        "outputId": "7cc36827-8e1f-4098-cac5-0fd7987b8b78",
        "colab": {
          "base_uri": "https://localhost:8080/"
        }
      },
      "outputs": [
        {
          "output_type": "stream",
          "name": "stdout",
          "text": [
            "List of MSE: [128.9418800151382, 138.93913722495213, 149.11719719085957, 149.17240969927283, 155.3814761432772, 146.51064885722636, 143.34198634056335, 145.5133907670219, 110.89473195908934, 126.91259932531135, 144.55541149122004, 134.99623590044433, 111.50956370929225, 150.71947162137312, 152.2444868942966, 149.36099552591944, 135.04935249302014, 134.9659728535405, 126.78201242190588, 146.64175775594734, 135.32244408237116, 154.97481067177182, 139.77087341810412, 129.3541648571109, 146.41809735024245, 145.8147257371402, 142.67901922531018, 116.58635918615668, 140.4926429048991, 137.07845823549036, 151.58590256007773, 144.86181053633257, 150.7273974778145, 141.40963402518324, 149.48683429577446, 131.68127607162276, 137.37367694622907, 148.42210228146868, 145.45650498537782, 1444.6517097247101, 148.23050743514887, 147.65530396382417, 135.75274727648687, 130.2414402377214, 100.62905264344191, 137.67133119140573, 145.02514339500422, 150.55906690586858, 149.96051361687657, 142.78714151263932]\n",
            "Standard Deviation: 183.018\n",
            "Mean: 166.084\n"
          ]
        }
      ],
      "source": [
        "#printing and caclulating the list, standard deviation for the list and the mean for the list of Part D\n",
        "\n",
        "print('List of MSE: {}'.format(list_of_mse_Part_D))\n",
        "std_D = np.std(list_of_mse_Part_D)\n",
        "mean_D = np.mean(list_of_mse_Part_D)\n",
        "print('Standard Deviation: {0:.3f}'.format(std_D))\n",
        "print('Mean: {0:.3f}'.format(mean_D))"
      ]
    },
    {
      "cell_type": "code",
      "execution_count": 34,
      "id": "417cf84d-5378-467f-a900-d03d0c13ebba",
      "metadata": {
        "id": "417cf84d-5378-467f-a900-d03d0c13ebba",
        "outputId": "50908ae0-62f1-4998-a028-aa398b33a944",
        "colab": {
          "base_uri": "https://localhost:8080/"
        }
      },
      "outputs": [
        {
          "output_type": "stream",
          "name": "stdout",
          "text": [
            "Mean for Part B: 369.057\n",
            "Mean for Part D: 166.084\n"
          ]
        }
      ],
      "source": [
        "print('Mean for Part B: {0:.3f}'.format(mean_B))\n",
        "print('Mean for Part D: {0:.3f}'.format(mean_D))"
      ]
    },
    {
      "cell_type": "code",
      "execution_count": 35,
      "id": "d82341ed-1b13-4b06-8113-4dbe8086eb5e",
      "metadata": {
        "id": "d82341ed-1b13-4b06-8113-4dbe8086eb5e",
        "outputId": "ce00ff4e-7bf9-4695-9c99-47869e46e9bb",
        "colab": {
          "base_uri": "https://localhost:8080/"
        }
      },
      "outputs": [
        {
          "output_type": "stream",
          "name": "stdout",
          "text": [
            "Mean for Part D is 202.973 less than Part B\n"
          ]
        }
      ],
      "source": [
        "# Comparing Mean for Part D and Part B\n",
        "\n",
        "print('Mean for Part D is {0:.3f} less than Part B'.format(mean_B - mean_D))"
      ]
    }
  ],
  "metadata": {
    "kernelspec": {
      "display_name": "Python",
      "language": "python",
      "name": "conda-env-python-py"
    },
    "language_info": {
      "codemirror_mode": {
        "name": "ipython",
        "version": 3
      },
      "file_extension": ".py",
      "mimetype": "text/x-python",
      "name": "python",
      "nbconvert_exporter": "python",
      "pygments_lexer": "ipython3",
      "version": "3.7.12"
    },
    "colab": {
      "name": "NeuralNetworkFinalproject (1).ipynb",
      "provenance": [],
      "collapsed_sections": [],
      "include_colab_link": true
    }
  },
  "nbformat": 4,
  "nbformat_minor": 5
}